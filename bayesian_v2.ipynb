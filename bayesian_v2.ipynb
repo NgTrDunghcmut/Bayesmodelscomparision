{
 "cells": [
  {
   "cell_type": "code",
   "execution_count": 1,
   "metadata": {},
   "outputs": [],
   "source": [
    "import os\n",
    "from util import *\n",
    "from logistic_np import *\n",
    "from keras.models import Model, Sequential, load_model\n",
    "from keras.layers import Dense,InputLayer, LeakyReLU, BatchNormalization, Input\n",
    "from keras.callbacks import EarlyStopping\n",
    "from keras.datasets import mnist\n",
    "from matplotlib import pyplot as plt\n",
    "from keras.utils import plot_model\n",
    "from sklearn.metrics import accuracy_score\n",
    "from sklearn.linear_model import LogisticRegression\n",
    "from sklearn.naive_bayes import GaussianNB"
   ]
  },
  {
   "cell_type": "code",
   "execution_count": 2,
   "metadata": {},
   "outputs": [
    {
     "name": "stdout",
     "output_type": "stream",
     "text": [
      "Reading fashion MNIST data...\n",
      "<class 'numpy.ndarray'>\n",
      "Done reading\n",
      "train_x shape: (2500, 784)\n",
      "train_y shape: (2500,)\n",
      "val_x shape: (500, 784)\n",
      "val_y shape: (500,)\n",
      "test_x shape: (500, 784)\n",
      "test_y shape: (500,)\n"
     ]
    }
   ],
   "source": [
    "X_train, y_train, x_val, y_val, X_test, y_test = get_mnist_data()"
   ]
  },
  {
   "cell_type": "code",
   "execution_count": 4,
   "metadata": {},
   "outputs": [
    {
     "name": "stdout",
     "output_type": "stream",
     "text": [
      "(2500, 784)\n"
     ]
    }
   ],
   "source": [
    "# Preprocess data\n",
    "X_train, X_test = normalize_all_pixel(X_train,X_test)\n",
    "encoder_dim = X_train.shape[1]//2\n",
    "print(X_train.shape)"
   ]
  },
  {
   "cell_type": "code",
   "execution_count": 5,
   "metadata": {},
   "outputs": [],
   "source": [
    "# Define encoder and decoder dimensions\n",
    "encoder_dim = X_train.shape[1] // 2"
   ]
  },
  {
   "cell_type": "code",
   "execution_count": 6,
   "metadata": {},
   "outputs": [],
   "source": [
    "# Define Encoder model\n",
    "Encoder = Sequential([\n",
    "    InputLayer(input_shape=X_train.shape[1:]),\n",
    "    Dense(encoder_dim),\n",
    "    BatchNormalization(),\n",
    "    LeakyReLU(),\n",
    "    Dense(encoder_dim),\n",
    "    Dense(encoder_dim // 2)\n",
    "], name=\"Encoder\")"
   ]
  },
  {
   "cell_type": "code",
   "execution_count": 8,
   "metadata": {},
   "outputs": [],
   "source": [
    "# Define Decoder model\n",
    "Decoder = Sequential([\n",
    "    InputLayer(input_shape=(encoder_dim // 2,)),\n",
    "    Dense(encoder_dim),\n",
    "    BatchNormalization(),\n",
    "    LeakyReLU(),\n",
    "    Dense(encoder_dim),\n",
    "    Dense(X_train.shape[1])\n",
    "], name=\"Decoder\")"
   ]
  },
  {
   "cell_type": "code",
   "execution_count": 9,
   "metadata": {},
   "outputs": [],
   "source": [
    "# Combine Encoder and Decoder to form Autoencoder model\n",
    "inp = Input(X_train.shape[1:])\n",
    "Encoderoutput = Encoder(inp)\n",
    "Decoderoutput = Decoder(Encoderoutput)\n",
    "AutoEncodermodel = Model(inputs=inp, outputs=Decoderoutput)"
   ]
  },
  {
   "cell_type": "code",
   "execution_count": 10,
   "metadata": {},
   "outputs": [],
   "source": [
    "# Compile Autoencoder model\n",
    "AutoEncodermodel.compile(optimizer=\"adam\", loss=\"mse\")"
   ]
  },
  {
   "cell_type": "code",
   "execution_count": 11,
   "metadata": {},
   "outputs": [
    {
     "name": "stdout",
     "output_type": "stream",
     "text": [
      "Epoch 1/100\n",
      "79/79 [==============================] - 2s 12ms/step - loss: 0.3317 - val_loss: 0.4131\n",
      "Epoch 2/100\n",
      "79/79 [==============================] - 1s 9ms/step - loss: 0.2124 - val_loss: 0.2037\n",
      "Epoch 3/100\n",
      "79/79 [==============================] - 1s 9ms/step - loss: 0.1918 - val_loss: 0.1684\n",
      "Epoch 4/100\n",
      "79/79 [==============================] - 1s 10ms/step - loss: 0.1688 - val_loss: 0.1590\n",
      "Epoch 5/100\n",
      "79/79 [==============================] - 1s 9ms/step - loss: 0.1576 - val_loss: 0.1419\n",
      "Epoch 6/100\n",
      "79/79 [==============================] - 1s 8ms/step - loss: 0.1510 - val_loss: 0.1404\n",
      "Epoch 7/100\n",
      "79/79 [==============================] - 0s 6ms/step - loss: 0.1461 - val_loss: 0.1409\n",
      "Epoch 8/100\n",
      "79/79 [==============================] - 1s 7ms/step - loss: 0.1386 - val_loss: 0.1496\n",
      "Epoch 9/100\n",
      "79/79 [==============================] - 1s 9ms/step - loss: 0.1407 - val_loss: 0.1217\n",
      "Epoch 10/100\n",
      "79/79 [==============================] - 1s 9ms/step - loss: 0.1283 - val_loss: 0.1195\n",
      "Epoch 11/100\n",
      "79/79 [==============================] - 1s 7ms/step - loss: 0.1268 - val_loss: 0.1361\n",
      "Epoch 12/100\n",
      "79/79 [==============================] - 1s 10ms/step - loss: 0.1232 - val_loss: 0.1132\n",
      "Epoch 13/100\n",
      "79/79 [==============================] - 1s 8ms/step - loss: 0.1226 - val_loss: 0.1110\n",
      "Epoch 14/100\n",
      "79/79 [==============================] - 1s 8ms/step - loss: 0.1190 - val_loss: 0.1032\n",
      "Epoch 15/100\n",
      "79/79 [==============================] - 1s 9ms/step - loss: 0.1101 - val_loss: 0.1082\n",
      "Epoch 16/100\n",
      "79/79 [==============================] - 1s 9ms/step - loss: 0.1129 - val_loss: 0.1034\n",
      "Epoch 17/100\n",
      "79/79 [==============================] - 1s 7ms/step - loss: 0.1146 - val_loss: 0.1009\n",
      "Epoch 18/100\n",
      "79/79 [==============================] - 1s 10ms/step - loss: 0.1127 - val_loss: 0.1057\n",
      "Epoch 19/100\n",
      "79/79 [==============================] - 1s 8ms/step - loss: 0.1099 - val_loss: 0.0973\n",
      "Epoch 20/100\n",
      "79/79 [==============================] - 1s 9ms/step - loss: 0.1073 - val_loss: 0.0991\n",
      "Epoch 21/100\n",
      "79/79 [==============================] - 1s 8ms/step - loss: 0.1032 - val_loss: 0.0982\n",
      "Epoch 22/100\n",
      "79/79 [==============================] - 1s 10ms/step - loss: 0.1036 - val_loss: 0.0962\n",
      "Epoch 23/100\n",
      "79/79 [==============================] - 1s 10ms/step - loss: 0.1010 - val_loss: 0.0954\n",
      "Epoch 24/100\n",
      "79/79 [==============================] - 1s 8ms/step - loss: 0.1005 - val_loss: 0.0939\n",
      "Epoch 25/100\n",
      "79/79 [==============================] - 0s 6ms/step - loss: 0.1036 - val_loss: 0.0960\n",
      "Epoch 26/100\n",
      "79/79 [==============================] - 1s 8ms/step - loss: 0.1020 - val_loss: 0.0925\n",
      "Epoch 27/100\n",
      "79/79 [==============================] - 1s 11ms/step - loss: 0.0986 - val_loss: 0.0969\n",
      "Epoch 28/100\n",
      "79/79 [==============================] - 1s 11ms/step - loss: 0.1038 - val_loss: 0.0917\n",
      "Epoch 29/100\n",
      "79/79 [==============================] - 1s 8ms/step - loss: 0.0974 - val_loss: 0.0940\n",
      "Epoch 30/100\n",
      "79/79 [==============================] - 1s 8ms/step - loss: 0.0987 - val_loss: 0.0914\n",
      "Epoch 31/100\n",
      "79/79 [==============================] - 1s 7ms/step - loss: 0.0990 - val_loss: 0.0875\n",
      "Epoch 32/100\n",
      "79/79 [==============================] - 1s 7ms/step - loss: 0.0936 - val_loss: 0.0866\n",
      "Epoch 33/100\n",
      "79/79 [==============================] - 1s 10ms/step - loss: 0.0983 - val_loss: 0.0863\n",
      "Epoch 34/100\n",
      "79/79 [==============================] - 1s 11ms/step - loss: 0.0923 - val_loss: 0.0865\n",
      "Epoch 35/100\n",
      "79/79 [==============================] - 1s 13ms/step - loss: 0.0914 - val_loss: 0.0900\n",
      "Epoch 36/100\n",
      "79/79 [==============================] - 1s 10ms/step - loss: 0.0922 - val_loss: 0.0843\n",
      "Epoch 37/100\n",
      "79/79 [==============================] - 1s 9ms/step - loss: 0.0933 - val_loss: 0.0876\n",
      "Epoch 38/100\n",
      "79/79 [==============================] - 1s 8ms/step - loss: 0.0934 - val_loss: 0.0915\n",
      "Epoch 39/100\n",
      "79/79 [==============================] - 1s 10ms/step - loss: 0.0944 - val_loss: 0.0880\n"
     ]
    }
   ],
   "source": [
    "# Train Autoencoder model\n",
    "callback = EarlyStopping(monitor='val_loss', patience=3)\n",
    "hist = AutoEncodermodel.fit(X_train, X_train, epochs=100, validation_data=(X_test, X_test), callbacks=[callback])\n"
   ]
  },
  {
   "cell_type": "code",
   "execution_count": 12,
   "metadata": {},
   "outputs": [
    {
     "data": {
      "image/png": "[encoded data removed]",
      "text/plain": [
       "<Figure size 640x480 with 1 Axes>"
      ]
     },
     "metadata": {},
     "output_type": "display_data"
    }
   ],
   "source": [
    "# Plot loss curves\n",
    "plt.plot(range(1, len(hist.history['loss']) + 1), hist.history['loss'], label=\"train\")\n",
    "plt.plot(range(1, len(hist.history['loss']) + 1), hist.history['val_loss'], label=\"test\")\n",
    "plt.legend()\n",
    "plt.xlabel('Epochs')\n",
    "plt.ylabel('Loss')\n",
    "plt.title('Autoencoder Training Loss')\n",
    "plt.show()"
   ]
  },
  {
   "cell_type": "code",
   "execution_count": 13,
   "metadata": {},
   "outputs": [],
   "source": [
    "# Save Encoder model\n",
    "encoder = Model(inputs=inp, outputs=Encoderoutput)\n",
    "encoder.compile()\n",
    "if os.path.exists('encoder_v2.keras'):\n",
    "    os.remove('encoder_v2.keras')  # Deletes the existing file\n",
    "encoder.save('encoder_v2.keras')"
   ]
  },
  {
   "cell_type": "code",
   "execution_count": 14,
   "metadata": {},
   "outputs": [
    {
     "name": "stdout",
     "output_type": "stream",
     "text": [
      "You must install pydot (`pip install pydot`) and install graphviz (see instructions at https://graphviz.gitlab.io/download/) for plot_model to work.\n"
     ]
    }
   ],
   "source": [
    "\n",
    "# Visualize Encoder model architecture\n",
    "plot_model(encoder, 'encoder_compress_v2.png', show_shapes=True)"
   ]
  },
  {
   "cell_type": "code",
   "execution_count": 15,
   "metadata": {},
   "outputs": [
    {
     "name": "stdout",
     "output_type": "stream",
     "text": [
      "79/79 [==============================] - 0s 3ms/step\n",
      "16/16 [==============================] - 0s 3ms/step\n"
     ]
    }
   ],
   "source": [
    "# Load Encoder model for feature extraction\n",
    "feature_extract = load_model('encoder_v2.keras')\n",
    "X_train_encoded = feature_extract.predict(X_train)\n",
    "X_test_encoded = feature_extract.predict(X_test)"
   ]
  },
  {
   "cell_type": "code",
   "execution_count": 32,
   "metadata": {},
   "outputs": [
    {
     "name": "stdout",
     "output_type": "stream",
     "text": [
      "Epoch:  0\n",
      "Epoch:  1\n",
      "Epoch:  2\n",
      "Epoch:  3\n",
      "Epoch:  4\n",
      "Epoch:  5\n",
      "Epoch:  6\n",
      "Epoch:  7\n",
      "Epoch:  8\n",
      "Epoch:  9\n",
      "Epoch:  10\n",
      "Epoch:  11\n",
      "Epoch:  12\n",
      "Epoch:  13\n",
      "Epoch:  14\n",
      "Epoch:  15\n",
      "Epoch:  16\n",
      "Epoch:  17\n",
      "Epoch:  18\n",
      "Epoch:  19\n",
      "Epoch:  20\n",
      "Epoch:  21\n",
      "Epoch:  22\n",
      "Epoch:  23\n",
      "Epoch:  24\n",
      "Epoch:  25\n",
      "Epoch:  26\n",
      "Epoch:  27\n",
      "Epoch:  28\n",
      "Epoch:  29\n",
      "Epoch:  30\n",
      "Epoch:  31\n",
      "Epoch:  32\n",
      "Epoch:  33\n",
      "Epoch:  34\n",
      "Epoch:  35\n",
      "Epoch:  36\n",
      "Epoch:  37\n",
      "Epoch:  38\n",
      "Epoch:  39\n",
      "Epoch:  40\n",
      "Epoch:  41\n",
      "Epoch:  42\n",
      "Epoch:  43\n",
      "Epoch:  44\n",
      "Epoch:  45\n",
      "Epoch:  46\n",
      "Epoch:  47\n",
      "Epoch:  48\n",
      "Epoch:  49\n",
      "Epoch:  50\n",
      "Epoch:  51\n",
      "Epoch:  52\n",
      "Epoch:  53\n",
      "Epoch:  54\n",
      "Epoch:  55\n",
      "Epoch:  56\n",
      "Epoch:  57\n",
      "Epoch:  58\n",
      "Epoch:  59\n",
      "Epoch:  60\n",
      "Epoch:  61\n",
      "Epoch:  62\n",
      "Epoch:  63\n",
      "Epoch:  64\n",
      "Epoch:  65\n",
      "Epoch:  66\n",
      "Epoch:  67\n",
      "Epoch:  68\n",
      "Epoch:  69\n",
      "Epoch:  70\n",
      "Epoch:  71\n",
      "Epoch:  72\n",
      "Epoch:  73\n",
      "Epoch:  74\n",
      "Epoch:  75\n",
      "Epoch:  76\n",
      "Epoch:  77\n",
      "Epoch:  78\n",
      "Epoch:  79\n",
      "Epoch:  80\n",
      "Epoch:  81\n",
      "Epoch:  82\n",
      "Epoch:  83\n",
      "Epoch:  84\n",
      "Epoch:  85\n",
      "Epoch:  86\n",
      "Epoch:  87\n",
      "Epoch:  88\n",
      "Epoch:  89\n",
      "Epoch:  90\n",
      "Epoch:  91\n",
      "Epoch:  92\n",
      "Epoch:  93\n",
      "Epoch:  94\n",
      "Epoch:  95\n",
      "Epoch:  96\n",
      "Epoch:  97\n",
      "Epoch:  98\n",
      "Epoch:  99\n",
      "Accuracy: 56.60%\n"
     ]
    }
   ],
   "source": [
    "gaussian = GaussianNB()\n",
    "for i in range(100):\n",
    "    gaussian.fit(X_train, y_train)\n",
    "    print(\"Epoch: \",i )\n",
    "\n",
    "y_pred = gaussian.predict(X_test)\n",
    "\n",
    "print(\"Accuracy: %.2f%%\" %(100*accuracy_score(y_test, y_pred)))"
   ]
  },
  {
   "cell_type": "code",
   "execution_count": 35,
   "metadata": {},
   "outputs": [],
   "source": [
    "# Train Gaussian Naive Bayes classifier on encoded data\n",
    "gaussian_v2 = GaussianNB()\n",
    "gaussian_v2.fit(X_train_encoded, y_train)\n",
    "y_pred_v2 = gaussian_v2.predict(X_test_encoded)"
   ]
  },
  {
   "cell_type": "code",
   "execution_count": 36,
   "metadata": {},
   "outputs": [
    {
     "name": "stdout",
     "output_type": "stream",
     "text": [
      "Gaussian Naive Bayes Accuracy: 0.768\n"
     ]
    }
   ],
   "source": [
    "# Evaluate Gaussian Naive Bayes classifier\n",
    "accuracy_nb = accuracy_score(y_test, y_pred_v2)\n",
    "print(\"Gaussian Naive Bayes Accuracy:\", accuracy_nb)"
   ]
  },
  {
   "cell_type": "code",
   "execution_count": 37,
   "metadata": {},
   "outputs": [
    {
     "name": "stderr",
     "output_type": "stream",
     "text": [
      "d:\\anaconda\\envs\\py39\\lib\\site-packages\\sklearn\\linear_model\\_logistic.py:460: ConvergenceWarning: lbfgs failed to converge (status=1):\n",
      "STOP: TOTAL NO. of ITERATIONS REACHED LIMIT.\n",
      "\n",
      "Increase the number of iterations (max_iter) or scale the data as shown in:\n",
      "    https://scikit-learn.org/stable/modules/preprocessing.html\n",
      "Please also refer to the documentation for alternative solver options:\n",
      "    https://scikit-learn.org/stable/modules/linear_model.html#logistic-regression\n",
      "  n_iter_i = _check_optimize_result(\n"
     ]
    },
    {
     "name": "stdout",
     "output_type": "stream",
     "text": [
      "Logistic Regression (Original data) Accuracy: 0.792\n"
     ]
    }
   ],
   "source": [
    "# Train Logistic Regression classifier on original data\n",
    "model_lr_original = LogisticRegression(multi_class=\"ovr\")\n",
    "model_lr_original.fit(X_train, y_train)\n",
    "yhat_lr_original = model_lr_original.predict(X_test)\n",
    "accuracy_lr_original = accuracy_score(y_test, yhat_lr_original)\n",
    "print(\"Logistic Regression (Original data) Accuracy:\", accuracy_lr_original)"
   ]
  },
  {
   "cell_type": "code",
   "execution_count": 38,
   "metadata": {},
   "outputs": [
    {
     "name": "stderr",
     "output_type": "stream",
     "text": [
      "d:\\anaconda\\envs\\py39\\lib\\site-packages\\sklearn\\linear_model\\_logistic.py:460: ConvergenceWarning: lbfgs failed to converge (status=1):\n",
      "STOP: TOTAL NO. of ITERATIONS REACHED LIMIT.\n",
      "\n",
      "Increase the number of iterations (max_iter) or scale the data as shown in:\n",
      "    https://scikit-learn.org/stable/modules/preprocessing.html\n",
      "Please also refer to the documentation for alternative solver options:\n",
      "    https://scikit-learn.org/stable/modules/linear_model.html#logistic-regression\n",
      "  n_iter_i = _check_optimize_result(\n"
     ]
    },
    {
     "name": "stdout",
     "output_type": "stream",
     "text": [
      "Logistic Regression (Encoded data) Accuracy: 0.83\n"
     ]
    }
   ],
   "source": [
    "# Train Logistic Regression classifier on encoded data\n",
    "model_lr_encoded = LogisticRegression(multi_class=\"ovr\")\n",
    "model_lr_encoded.fit(X_train_encoded, y_train)\n",
    "yhat_lr_encoded = model_lr_encoded.predict(X_test_encoded)\n",
    "accuracy_lr_encoded = accuracy_score(y_test, yhat_lr_encoded)\n",
    "print(\"Logistic Regression (Encoded data) Accuracy:\", accuracy_lr_encoded)"
   ]
  },
  {
   "cell_type": "code",
   "execution_count": 39,
   "metadata": {},
   "outputs": [
    {
     "name": "stdout",
     "output_type": "stream",
     "text": [
      "Gaussian Naive Bayes (Encoded data):\n",
      "Precision: 0.7687\n",
      "F1 Score: 0.7587\n",
      "\n",
      "Logistic Regression (Encoded data):\n",
      "Precision: 0.8284\n",
      "F1 Score: 0.8274\n"
     ]
    }
   ],
   "source": [
    "from sklearn.metrics import precision_score, f1_score\n",
    "\n",
    "# Calculate Precision and F1 score for Gaussian Naive Bayes on encoded data\n",
    "precision_nb_encoded = precision_score(y_test, y_pred_v2, average='weighted')\n",
    "f1_nb_encoded = f1_score(y_test, y_pred_v2, average='weighted')\n",
    "\n",
    "print(\"Gaussian Naive Bayes (Encoded data):\")\n",
    "print(f\"Precision: {precision_nb_encoded:.4f}\")\n",
    "print(f\"F1 Score: {f1_nb_encoded:.4f}\")\n",
    "\n",
    "# Calculate Precision and F1 score for Logistic Regression on encoded data\n",
    "precision_lr_encoded = precision_score(y_test, yhat_lr_encoded, average='weighted')\n",
    "f1_lr_encoded = f1_score(y_test, yhat_lr_encoded, average='weighted')\n",
    "\n",
    "print(\"\\nLogistic Regression (Encoded data):\")\n",
    "print(f\"Precision: {precision_lr_encoded:.4f}\")\n",
    "print(f\"F1 Score: {f1_lr_encoded:.4f}\")\n"
   ]
  },
  {
   "cell_type": "code",
   "execution_count": 29,
   "metadata": {},
   "outputs": [
    {
     "data": {
      "image/png": "[encoded data removed]",
      "text/plain": [
       "<Figure size 640x480 with 2 Axes>"
      ]
     },
     "metadata": {},
     "output_type": "display_data"
    }
   ],
   "source": [
    "confusion_matrix(y_test, y_pred_v2)"
   ]
  },
  {
   "cell_type": "code",
   "execution_count": 30,
   "metadata": {},
   "outputs": [
    {
     "data": {
      "image/png": "[encoded data removed]",
      "text/plain": [
       "<Figure size 640x480 with 2 Axes>"
      ]
     },
     "metadata": {},
     "output_type": "display_data"
    }
   ],
   "source": [
    "\n",
    "confusion_matrix(y_test, yhat_lr_encoded)"
   ]
  }
 ],
 "metadata": {
  "kernelspec": {
   "display_name": "AI",
   "language": "python",
   "name": "python3"
  },
  "language_info": {
   "codemirror_mode": {
    "name": "ipython",
    "version": 3
   },
   "file_extension": ".py",
   "mimetype": "text/x-python",
   "name": "python",
   "nbconvert_exporter": "python",
   "pygments_lexer": "ipython3",
   "version": "3.8.18"
  }
 },
 "nbformat": 4,
 "nbformat_minor": 2
}
